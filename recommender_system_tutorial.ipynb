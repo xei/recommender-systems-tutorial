{
  "nbformat": 4,
  "nbformat_minor": 0,
  "metadata": {
    "colab": {
      "provenance": []
    },
    "kernelspec": {
      "name": "python3",
      "display_name": "Python 3"
    }
  },
  "cells": [
    {
      "cell_type": "markdown",
      "metadata": {
        "id": "l-8TmjXRTezi"
      },
      "source": [
        "# Build a recommendation system with TensorFlow and Keras\n",
        "\n",
        "\n",
        "\n",
        "<table class=\"tfo-notebook-buttons\" align=\"left\">\n",
        "  <td>\n",
        "    <a target=\"_blank\" href=\"https://colab.research.google.com/github/xei/recommender-system-tutorial/blob/main/recommender_system_tutorial.ipynb\"><img src=\"https://www.tensorflow.org/images/colab_logo_32px.png\" />Run in Google Colab</a>\n",
        "  </td>\n",
        "  <td>\n",
        "    <a target=\"_blank\" href=\"https://github.com/xei/recommender-system-tutorial/blob/main/recommender_system_tutorial.ipynb\"><img src=\"https://www.tensorflow.org/images/GitHub-Mark-32px.png\" />View source on GitHub</a>\n",
        "  </td>\n",
        "</table>\n",
        "\n",
        "<p>&nbsp;</p>\n",
        "<p>&nbsp;</p>\n",
        "\n",
        "Here, we are going to learn the fundamentals of information retrieval and recommendation systems and build a practical movie recommender service using [TensorFlow Recommenders](https://www.tensorflow.org/recommenders) and [Keras](https://keras.io/) and deploy it using [TensorFlow Serving](https://www.tensorflow.org/tfx/guide/serving).\n",
        "\n",
        "This step-by-step tutorial is recommended to both academia and industry enthusiasts."
      ]
    },
    {
      "cell_type": "markdown",
      "metadata": {
        "id": "JR7yjVX9UUxs"
      },
      "source": [
        "## Introduction\n",
        "\n",
        "### What is a recommendation system?!\n",
        "Online services usually provide thousands, millions or even billions of items like products, video clips, movies, musics, news, articles, blog posts, advertisements, etc. For example, the [Google Play Store](https://play.google.com/store) provides millions of apps and [YouTube](https://www.youtube.com/) provides billions of videos. [[1]](https://developers.google.com/machine-learning/recommendation/overview)\n",
        "\n",
        "However, users prefer to see a handful shortlist of likely items instead of struggling with the full corpora. They usually can search or filter the list to find the best handful items, but sometimes they even don't know what they really want (e.g. a birthday gift). In a physical store an expert seller would help in this case by useful recommendations. So, why not in an online store?!\n",
        "\n",
        "A recommedation system can retrieve, filter and recommend best personalized results for the user - results which the user is likely to buy. So it is one of the major requirements of modern businesses in order to increase their `conversion rate`. On September 21, 2009, Netflix gave a grand prize of $1,000,000 to a team which bested Netflix's own algorithm for predicting ratings by 10.06%. [[2]](https://web.archive.org/web/20090924184639/http://www.netflixprize.com/community/viewtopic.php?id=1537)\n",
        "\n",
        "<p align=\"center\">\n",
        "  <img width=\"634\" height=\"416\" src=\"https://raw.githubusercontent.com/xei/recommender-system-tutorial/main/assets/netflix_prize.jpeg\">\n",
        "</p>\n",
        "\n",
        "A recommendation system ia a system that gives a `query (context)` which is what we know about the liking list, and filter the corpus (full catalog of items) to a shortlist of `candidates` (items, documents). A query (context) can be a combination of ***user id***, ***user's geographical location***, ***user's history of previous purchases***, etc and the resulting candidates can be some new items that we guess are interesting for the user.\n",
        "\n",
        "The query can also be a combination of ***item id***, ***its image***, ***its textual description***, etc and the candidates can be some similar or related items from the corpus.\n",
        "<p>&nbsp;</p>\n",
        "<p align=\"center\">\n",
        "  <img width=\"556\" height=\"82\" src=\"https://raw.githubusercontent.com/xei/recommender-system-tutorial/main/assets/recsys_io.png\">\n",
        "</p>\n",
        "<p>&nbsp;</p>\n",
        "\n",
        "### Recommendation stages (tasks)\n",
        "In practice, dealing with a large corpus and filter it to a shortlist is an intractable and inefficient task. So practical recommender systems has two (or three) filterng phases:\n",
        "1. Retrieval (Candidate Generation)\n",
        "2. Ranking (Scoring)\n",
        "3. Re-ranking or optimazation or ...\n",
        "\n",
        "<p align=\"center\">\n",
        "  <img width=\"700\" height=\"394\" src=\"https://raw.githubusercontent.com/xei/recommender-system-tutorial/main/assets/retrieval_ranking.png\">\n",
        "</p>\n",
        "\n",
        "<p align=\"center\">\n",
        "  <img width=\"700\" height=\"394\" src=\"https://raw.githubusercontent.com/xei/recommender-system-tutorial/main/assets/deepmind_forgoogle_recsys.png\">\n",
        "</p>\n",
        "\n",
        "### Content-based Filtering vs Collaborative Filtering\n",
        "Filtering items is based on similarities. we can filter the list based on similar candidates (`content-based filtering`) or based on the similarity between queries and candidates (`collaborative filtering`). Collaborative filtering algorithms usually perform better than content-based methods.\n",
        "\n",
        "<p align=\"center\">\n",
        "  <img width=\"700\" height=\"330\" src=\"https://raw.githubusercontent.com/xei/recommender-system-tutorial/main/assets/cbf_cf.png\">\n",
        "</p>\n",
        "\n",
        "### Representation of a query or a candidate\n",
        "A query or a candidate has lots of different features. For example a query can be constructed by these features:\n",
        "- user_id\n",
        "- user_previous_history\n",
        "- user_job\n",
        "- etc.\n",
        "\n",
        "And a candidate can have features like:\n",
        "- item_description\n",
        "- item_image\n",
        "- item_price\n",
        "- posted_time\n",
        "- etc.\n",
        "\n",
        "These obviouse features can be `numerical variables`, `categorical variables`, `bitmaps` or `raw texts`. However, these low-level features are not enough for any prediction and we should extract some more abstract `latent features` from these obvious features to represent the query or the candidate as a numerical high-dimensional vector - known as `Embedding Vector`.\n",
        "\n",
        "`Matrix Factorization` (MF) is a classic collaborative filtering method to learn some `latent factors` (latent features) from `user_id`, `item_id` and `rating` features and represent **users** and **items** by latent (embedding) vectors.\n",
        "\n",
        "<p align=\"center\">\n",
        "  <img width=\"826\" height=\"398\" src=\"https://raw.githubusercontent.com/xei/recommender-system-tutorial/main/assets/mf.png\">\n",
        "</p>\n",
        "\n",
        "Matrix Factorization method only uses `user_id` and `candidate_id` features collaboratively to learn the `latent features`. In fact it doesn't care about other side-features like `candidate_description`, `price`, `user_comment`, etc.\n",
        "\n",
        "To involve side-features as well as ids while learning latent features (embeddings), we can use deep neural network (DNN) architectures like `softmax` or `two-tower` neural models.\n",
        "\n",
        "<p align=\"center\">\n",
        "  <img width=\"540\" height=\"340\" src=\"https://raw.githubusercontent.com/xei/recommender-system-tutorial/main/assets/tensorflow_two_tower.gif\">\n",
        "</p>\n",
        "\n",
        "YouTube two-tower neural model uses side-features to represent queries and candidates in an abstract high-dimentional embedding vector.\n",
        "\n",
        "<p align=\"center\">\n",
        "  <img width=\"540\" height=\"340\" src=\"https://raw.githubusercontent.com/xei/recommender-system-tutorial/main/assets/youtube_retrieval.png\">\n",
        "</p>\n",
        "\n",
        "### Movielens dataset\n",
        "\n",
        "The `Movielens` dataset is a benchmark dataset in the field of recommender system research containing a set of *ratings* given to *movies* by a set of *users*, collected from the [MovieLens website](http://movielens.org/) - a movie recommendation service.\n",
        "\n",
        "There are 5 different versions of Movielens available for different purposes: \"25m\", \"latest-small\", \"100k\", \"1m\" and \"20m\". In this tutorial we are going to work with \"100k\" version. For more information about different versions visit the [official website](https://grouplens.org/datasets/movielens/).\n",
        "\n",
        "**movielens/100k-ratings**\n",
        "\n",
        "The oldest version of the MovieLens dataset containing 100,000 ratings from 943 users on 1,682 movies. Each user has rated at least 20 movies. Ratings are in whole-star increments. This dataset contains demographic data of users in addition to data on movies and ratings.\n",
        "\n",
        "**movielens/100k-movies**\n",
        "\n",
        "This dataset contains data of 1,682 movies rated in the ***movielens/100k-ratings*** dataset."
      ]
    },
    {
      "cell_type": "markdown",
      "metadata": {
        "id": "NDrq_pdbB6Pd"
      },
      "source": [
        "## Make an input pipeline with TensorFlow Datasets\n",
        "TensorFlow Datasets ([TFDS library](https://www.tensorflow.org/datasets/overview)) provides a collection of ready-to-use datasets for use with TensorFlow, Jax, and other Machine Learning frameworks.\n",
        "\n",
        "It handles downloading and preparing the data deterministically and constructing a `tf.data.Dataset` (or `np.array`) in order to enabling easy-to-use and high-performance input pipelines."
      ]
    },
    {
      "cell_type": "code",
      "source": [
        "import os\n",
        "os.environ['TF_USE_LEGACY_KERAS'] = '1'"
      ],
      "metadata": {
        "id": "NLu_As-ji2o0"
      },
      "execution_count": 1,
      "outputs": []
    },
    {
      "cell_type": "code",
      "metadata": {
        "id": "Sciomsbda9NT"
      },
      "source": [
        "# Make sure the latest version of TFDS library is installed.\n",
        "# Older versions are not supported here.\n",
        "!pip install -q --upgrade tensorflow-datasets\n",
        "\n",
        "import tensorflow_datasets as tfds"
      ],
      "execution_count": 2,
      "outputs": []
    },
    {
      "cell_type": "code",
      "metadata": {
        "id": "IWY6OFnhLQGx",
        "colab": {
          "base_uri": "https://localhost:8080/"
        },
        "outputId": "faeb623c-3ae3-41fd-cd61-5328c457a8f5"
      },
      "source": [
        "# Download the data, save them as `tfrecord` files, load the `tfrecord` files\n",
        "# and create the `tf.data.Dataset` object containing the dataset.\n",
        "ratings_dataset, ratings_dataset_info = tfds.load(\n",
        "    name='movielens/latest-small-ratings',\n",
        "    # MovieLens dataset is not splitted into `train` and `test` sets by default.\n",
        "    # So TFDS has put it all into `train` split. We load it completely and split\n",
        "    # it manually.\n",
        "    split='train',\n",
        "    # `with_info=True` makes the `load` function return a `tfds.core.DatasetInfo`\n",
        "    # object containing dataset metadata like version, description, homepage,\n",
        "    # citation, etc.\n",
        "    with_info=True\n",
        ")\n",
        "\n",
        "# Calling the `tfds.load()` function in old versions of TFDS won't return an\n",
        "# instance of `tf.data.Dataset` type. So we can make sure about it.\n",
        "import tensorflow as tf\n",
        "assert isinstance(ratings_dataset, tf.data.Dataset)\n",
        "\n",
        "print(\n",
        "    \"ratings_dataset size: %d\" % ratings_dataset.__len__()\n",
        ")\n",
        "\n",
        "# Use `tfds.as_dataframe()` to convert `tf.data.Dataset` to `pandas.DataFrame`.\n",
        "# Add the `tfds.core.DatasetInfo` as second argument of `tfds.as_dataframe` to\n",
        "# visualize images, audio, texts, videos, etc. `pandas.DataFrame` will load the\n",
        "# full dataset in-memory, and can be very expensive to display. So use it only\n",
        "# with take() function.\n",
        "print(\n",
        "    tfds.as_dataframe(ratings_dataset.take(5), ratings_dataset_info)\n",
        ")\n",
        "\n",
        "## Feature selection\n",
        "ratings_dataset = ratings_dataset.map(\n",
        "    lambda rating: {\n",
        "        # `user_id` is useful as a user identifier.\n",
        "        'user_id': rating['user_id'],\n",
        "        # `movie_id` is useful as a movie identifier.\n",
        "        'movie_id': rating['movie_id'],\n",
        "        # `movie_title` is useful as a textual information about the movie.\n",
        "        'movie_title': rating['movie_title'],\n",
        "        # `user_rating` shows the user's level of interest to a movie.\n",
        "        'user_rating': rating['user_rating'],\n",
        "        # `timestamp` will allow us to model the effect of time.\n",
        "        'timestamp': rating['timestamp']\n",
        "    }\n",
        ")\n",
        "\n",
        "print(\n",
        "    tfds.as_dataframe(ratings_dataset.take(5), ratings_dataset_info)\n",
        ")\n",
        "\n",
        "## Split dataset randomly (80% for train and 20% for test)\n",
        "trainset_size = 0.8 * ratings_dataset.__len__().numpy()\n",
        "# In an industrial recommender system, this would most likely be done by time:\n",
        "# The data up to time T would be used to predict interactions after T.\n",
        "\n",
        "# set the global seed:\n",
        "tf.random.set_seed(42)\n",
        "# More info: https://www.tensorflow.org/api_docs/python/tf/random/set_seed\n",
        "\n",
        "# Shuffle the elements of the dataset randomly.\n",
        "ratings_dataset_shuffled = ratings_dataset.shuffle(\n",
        "    # the new dataset will be sampled from a buffer window of first `buffer_size`\n",
        "    # elements of the dataset\n",
        "    buffer_size=100_000,\n",
        "    # set the random seed that will be used to create the distribution.\n",
        "    seed=42,\n",
        "    # `list(dataset.as_numpy_iterator()` yields different result for each call\n",
        "    # Because reshuffle_each_iteration defaults to True.\n",
        "    reshuffle_each_iteration=False\n",
        ")\n",
        "# More info: https://www.tensorflow.org/api_docs/python/tf/data/Dataset#shuffle\n",
        "\n",
        "ratings_trainset = ratings_dataset_shuffled.take(trainset_size)\n",
        "ratings_testset = ratings_dataset_shuffled.skip(trainset_size)\n",
        "\n",
        "print(\n",
        "    \"ratings_trainset size: %d\" % ratings_trainset.__len__()\n",
        ")\n",
        "print(\n",
        "    \"ratings_testset size: %d\" % ratings_testset.__len__()\n",
        ")"
      ],
      "execution_count": 3,
      "outputs": [
        {
          "output_type": "stream",
          "name": "stdout",
          "text": [
            "ratings_dataset size: 100836\n",
            "           movie_genres movie_id                                movie_title  \\\n",
            "0        [7, 8, 13, 15]  b'4874'                            b'K-PAX (2001)'   \n",
            "1               [7, 18]   b'527'                 b\"Schindler's List (1993)\"   \n",
            "2                [5, 9]  b'7943'                     b'Killers, The (1946)'   \n",
            "3          [10, 13, 16]  b'1644'  b'I Know What You Did Last Summer (1997)'   \n",
            "4  [1, 2, 3, 4, 12, 14]  b'8360'                          b'Shrek 2 (2004)'   \n",
            "\n",
            "    timestamp user_id  user_rating  \n",
            "0  1446749868  b'105'          5.0  \n",
            "1  1305696664   b'17'          4.5  \n",
            "2  1166068511  b'309'          4.0  \n",
            "3  1518640852  b'111'          0.5  \n",
            "4  1127221149  b'182'          3.0  \n",
            "  movie_id                                movie_title   timestamp user_id  \\\n",
            "0  b'4874'                            b'K-PAX (2001)'  1446749868  b'105'   \n",
            "1   b'527'                 b\"Schindler's List (1993)\"  1305696664   b'17'   \n",
            "2  b'7943'                     b'Killers, The (1946)'  1166068511  b'309'   \n",
            "3  b'1644'  b'I Know What You Did Last Summer (1997)'  1518640852  b'111'   \n",
            "4  b'8360'                          b'Shrek 2 (2004)'  1127221149  b'182'   \n",
            "\n",
            "   user_rating  \n",
            "0          5.0  \n",
            "1          4.5  \n",
            "2          4.0  \n",
            "3          0.5  \n",
            "4          3.0  \n",
            "ratings_trainset size: 80668\n",
            "ratings_testset size: 20168\n"
          ]
        }
      ]
    },
    {
      "cell_type": "markdown",
      "metadata": {
        "id": "2JOGVWBEWiZZ"
      },
      "source": [
        "To make a custom `tf.data.Dataset` object including your own dataset visit [this link](https://www.tensorflow.org/datasets/add_dataset).\n",
        "\n",
        "For more information about `tf.data.Dataset` visit [this link](https://www.tensorflow.org/api_docs/python/tf/data/Dataset)."
      ]
    },
    {
      "cell_type": "markdown",
      "metadata": {
        "id": "GnlXCP02UV8K"
      },
      "source": [
        "## Preprocess raw features and make embeddings with Keras preprocessing layers\n",
        "\n",
        "Raw features are usually not be immediately usable in a machine learning model and should be preprocessed in the first place.\n",
        "- **Numerical features** (ratings, prices, timestamps, etc) can be far away in terms of scale and need to be `normalized` so that their values lie in a small interval around 0.\n",
        "- **Categorical features** (ids, usernames/emails, titles, etc) are usually string features and have to be translated into `embedding vectors` (numerical feature representations) that are adjusted during training the model.\n",
        "- **Text features** (descriptions, comments, etc) need to be at first, `tokenized` (split into smaller parts such as individual words known as word pieces) and then translated into embeddings.\n",
        "\n",
        "[Keras preprocessing layers](https://keras.io/guides/preprocessing_layers/) let us build `end-to-end` portable models that accept raw features (raw images or raw structured data) as input; models that handle feature normalization or feature value indexing on their own."
      ]
    },
    {
      "cell_type": "markdown",
      "metadata": {
        "id": "EHvSx5Vq1dFO"
      },
      "source": [
        "Let's first have a look at what features we can use from the MovieLens dataset:\n"
      ]
    },
    {
      "cell_type": "code",
      "metadata": {
        "id": "iIiKVYmASodk",
        "colab": {
          "base_uri": "https://localhost:8080/"
        },
        "outputId": "d5b6473a-b387-4f91-e649-b139f41a62f4"
      },
      "source": [
        "from pprint import pprint\n",
        "\n",
        "for rating in ratings_trainset.take(1).as_numpy_iterator():\n",
        "  pprint(rating)"
      ],
      "execution_count": 4,
      "outputs": [
        {
          "output_type": "stream",
          "name": "stdout",
          "text": [
            "{'movie_id': b'3421',\n",
            " 'movie_title': b'Animal House (1978)',\n",
            " 'timestamp': 975212199,\n",
            " 'user_id': b'216',\n",
            " 'user_rating': 5.0}\n"
          ]
        }
      ]
    },
    {
      "cell_type": "markdown",
      "metadata": {
        "id": "vAIqWlEjsvVO"
      },
      "source": [
        "For more information about each field visit [this link](https://www.tensorflow.org/datasets/catalog/movielens)."
      ]
    },
    {
      "cell_type": "markdown",
      "metadata": {
        "id": "82VLAC1qJHMD"
      },
      "source": [
        "### Normalize numerical features\n",
        "`timestamp` values are far too large to be used directly in a machine learning model. However, it can be normalized in a small interval around 0. Standardization (`Z-score Normalization`) is a common preprocessing transformation that rescales features to normalize their range by subtracting the feature's `mean` and dividing by its `standard deviation`.\n",
        "\n"
      ]
    },
    {
      "cell_type": "code",
      "metadata": {
        "id": "Ga9_p0_1GpUC",
        "colab": {
          "base_uri": "https://localhost:8080/"
        },
        "outputId": "fdea8df1-9f6a-47c7-a1ae-ed70342b6201"
      },
      "source": [
        "# Make a Keras Normalization layer to standardize a numerical feature.\n",
        "timestamp_normalization_layer = \\\n",
        "    tf.keras.layers.Normalization(axis=None)\n",
        "\n",
        "# Normalization layer is a non-trainable layer and its state (mean and std of\n",
        "# feature set) must be set before training in a step called \"adaptation\".\n",
        "timestamp_normalization_layer.adapt(\n",
        "    ratings_trainset.map(\n",
        "        lambda x: x['timestamp']\n",
        "    )\n",
        ")\n",
        "\n",
        "for rating in ratings_trainset.take(3).as_numpy_iterator():\n",
        "  print(\n",
        "      f\"Raw timestamp: {rating['timestamp']} ->\",\n",
        "      f\"Normalized timestamp: {timestamp_normalization_layer(rating['timestamp'])}\"\n",
        "  )"
      ],
      "execution_count": 5,
      "outputs": [
        {
          "output_type": "stream",
          "name": "stdout",
          "text": [
            "Raw timestamp: 975212199 -> Normalized timestamp: -1.0651628971099854\n",
            "Raw timestamp: 1167543227 -> Normalized timestamp: -0.1764659434556961\n",
            "Raw timestamp: 958881789 -> Normalized timestamp: -1.1406203508377075\n"
          ]
        }
      ]
    },
    {
      "cell_type": "markdown",
      "metadata": {
        "id": "Q_2VmQ4KpOpo"
      },
      "source": [
        "### Turning categorical features into embeddings\n",
        "\n",
        "A categorical feature is a feature that does not express a continuous quantity, but rather takes on one of a set of fixed values. Most deep learning models express these feature by turning them into high-dimensional embedding vectors which will be adjusted during model training.\n",
        "\n",
        "Here we represent each user and each movie by an embedding vector. Initially, these embeddings will take on random values, but during training, we will adjust them so that embeddings of users and the movies they watch end up closer together.\n",
        "\n",
        "Taking raw categorical features and turning them into embeddings is normally a two-step process:\n",
        "\n",
        "\n",
        "1.   Build a mapping (called a `\"vocabulary\"`) that maps each raw values for example \"Postman, The (1997)\" to unique integers (say, 15).\n",
        "2.   Turn these integers into embedding vectors.\n",
        "\n"
      ]
    },
    {
      "cell_type": "code",
      "metadata": {
        "id": "2yfWHKFfpPSx",
        "colab": {
          "base_uri": "https://localhost:8080/"
        },
        "outputId": "abb36d70-c592-48bf-a40a-0bcef167b7c3"
      },
      "source": [
        "# Make a Keras StringLookup layer as the mapping (lookup)\n",
        "user_id_lookup_layer = \\\n",
        "    tf.keras.layers.StringLookup(mask_token=None)\n",
        "\n",
        "# StringLookup layer is a non-trainable layer and its state (the vocabulary)\n",
        "# must be constructed and set before training in a step called \"adaptation\".\n",
        "user_id_lookup_layer.adapt(\n",
        "    ratings_trainset.map(\n",
        "        lambda x: x['user_id']\n",
        "    )\n",
        ")\n",
        "\n",
        "print(\n",
        "    f\"Vocabulary[:10] -> {user_id_lookup_layer.get_vocabulary()[:10]}\"\n",
        "    # Vocabulary: ['[UNK]', '405', '655', '13', ...]\n",
        "    # The vocabulary includes one (or more!) unknown (or \"out of vocabulary\", OOV)\n",
        "    # tokens. So the layer can handle categorical values that are not in the\n",
        "    # vocabulary and the model can continue to learn about and make\n",
        "    # recommendations even using features that have not been seen during\n",
        "    # vocabulary construction.\n",
        ")\n",
        "\n",
        "print(\n",
        "    \"Mapped integer for user ids: ['-2', '13', '655', 'xxx']\\n\",\n",
        "    user_id_lookup_layer(\n",
        "        ['-2', '13', '655', 'xxx']\n",
        "    )\n",
        ")\n",
        "\n",
        "user_id_embedding_dim = 32\n",
        "# The larger it is, the higher the capacity of the model, but the slower it is\n",
        "# to fit and serve and more prone to overfitting.\n",
        "\n",
        "user_id_embedding_layer = tf.keras.layers.Embedding(\n",
        "    # Size of the vocabulary\n",
        "    input_dim=user_id_lookup_layer.vocabulary_size(),\n",
        "    # Dimension of the dense embedding\n",
        "    output_dim=user_id_embedding_dim\n",
        ")\n",
        "\n",
        "# A model that takes raw string feature values (user_id) in and yields embeddings\n",
        "user_id_model = tf.keras.Sequential(\n",
        "    [\n",
        "        user_id_lookup_layer,\n",
        "        user_id_embedding_layer\n",
        "    ]\n",
        ")\n",
        "\n",
        "print(\n",
        "    \"Embeddings for user ids: ['-2', '13', '655', 'xxx']\\n\",\n",
        "    user_id_model(\n",
        "        tf.convert_to_tensor(['-2', '13', '655', 'xxx'])\n",
        "    )\n",
        ")"
      ],
      "execution_count": 6,
      "outputs": [
        {
          "output_type": "stream",
          "name": "stdout",
          "text": [
            "Vocabulary[:10] -> ['[UNK]', '414', '599', '474', '448', '274', '610', '68', '380', '606']\n",
            "Mapped integer for user ids: ['-2', '13', '655', 'xxx']\n",
            " tf.Tensor([  0 493   0   0], shape=(4,), dtype=int64)\n",
            "Embeddings for user ids: ['-2', '13', '655', 'xxx']\n",
            " tf.Tensor(\n",
            "[[ 0.01478275 -0.03399806 -0.04737892 -0.01455851  0.02260116  0.03772945\n",
            "  -0.04947149 -0.03576241  0.01529941 -0.01436429  0.03431726  0.00177632\n",
            "   0.00778866  0.00945215 -0.02211686  0.04326234  0.00865857  0.03611586\n",
            "  -0.00819879 -0.01737251 -0.03739591  0.04867731 -0.00277033  0.02783228\n",
            "  -0.03756921  0.04588716 -0.00360299 -0.00270822 -0.01879736  0.00096357\n",
            "   0.04194726 -0.03343551]\n",
            " [-0.00042721  0.01578123  0.03790379  0.03472162 -0.04650879  0.02481607\n",
            "  -0.0494769   0.01245934  0.04805774  0.0247086   0.03865222  0.00027167\n",
            "   0.00802004  0.00562286  0.02058078 -0.03171451  0.0408157   0.00758809\n",
            "   0.04206653  0.04217685  0.01028284  0.02889507  0.03656546  0.00334147\n",
            "  -0.00780983 -0.02825767  0.00996434  0.02749718 -0.03737084 -0.0091005\n",
            "   0.03157964  0.01717177]\n",
            " [ 0.01478275 -0.03399806 -0.04737892 -0.01455851  0.02260116  0.03772945\n",
            "  -0.04947149 -0.03576241  0.01529941 -0.01436429  0.03431726  0.00177632\n",
            "   0.00778866  0.00945215 -0.02211686  0.04326234  0.00865857  0.03611586\n",
            "  -0.00819879 -0.01737251 -0.03739591  0.04867731 -0.00277033  0.02783228\n",
            "  -0.03756921  0.04588716 -0.00360299 -0.00270822 -0.01879736  0.00096357\n",
            "   0.04194726 -0.03343551]\n",
            " [ 0.01478275 -0.03399806 -0.04737892 -0.01455851  0.02260116  0.03772945\n",
            "  -0.04947149 -0.03576241  0.01529941 -0.01436429  0.03431726  0.00177632\n",
            "   0.00778866  0.00945215 -0.02211686  0.04326234  0.00865857  0.03611586\n",
            "  -0.00819879 -0.01737251 -0.03739591  0.04867731 -0.00277033  0.02783228\n",
            "  -0.03756921  0.04588716 -0.00360299 -0.00270822 -0.01879736  0.00096357\n",
            "   0.04194726 -0.03343551]], shape=(4, 32), dtype=float32)\n"
          ]
        }
      ]
    },
    {
      "cell_type": "code",
      "source": [
        "movie_id_lookup_layer = \\\n",
        "    tf.keras.layers.StringLookup(mask_token=None)\n",
        "\n",
        "movie_id_lookup_layer.adapt(\n",
        "    ratings_trainset.map(\n",
        "        lambda x: x['movie_id']\n",
        "    )\n",
        ")\n",
        "\n",
        "# Same as user_id_embedding_dim to be able to measure the similarity\n",
        "movie_id_embedding_dim = 32\n",
        "\n",
        "movie_id_embedding_layer = tf.keras.layers.Embedding(\n",
        "    input_dim=movie_id_lookup_layer.vocabulary_size(),\n",
        "    output_dim=movie_id_embedding_dim\n",
        ")\n",
        "\n",
        "movie_id_model = tf.keras.Sequential(\n",
        "    [\n",
        "        movie_id_lookup_layer,\n",
        "        movie_id_embedding_layer\n",
        "    ]\n",
        ")\n",
        "\n",
        "print(\n",
        "    f\"Embedding for the movie 898:\\n {movie_id_model(tf.convert_to_tensor(['898']))}\"\n",
        ")"
      ],
      "metadata": {
        "id": "O-Fw4HAuO1kh",
        "outputId": "be83a6c3-31f7-4cd7-fc1e-83f94074d213",
        "colab": {
          "base_uri": "https://localhost:8080/"
        }
      },
      "execution_count": 7,
      "outputs": [
        {
          "output_type": "stream",
          "name": "stdout",
          "text": [
            "Embedding for the movie 898:\n",
            " [[ 0.02420554 -0.02993221 -0.03578611 -0.01940017  0.02106949 -0.01936241\n",
            "  -0.00158745  0.00174867  0.02626561 -0.0172717   0.02571883 -0.03316146\n",
            "   0.03160522  0.04094924 -0.01908119  0.01257378 -0.00210525 -0.013066\n",
            "  -0.03793862  0.01088411  0.02089325 -0.04121248  0.03619212  0.01857083\n",
            "   0.02743815  0.03726472 -0.03322572  0.03820366  0.01855929  0.03005471\n",
            "  -0.01181834 -0.00866457]]\n"
          ]
        }
      ]
    },
    {
      "cell_type": "markdown",
      "metadata": {
        "id": "U3hdi7pZS2oC"
      },
      "source": [
        "### Tokenize textual features and translate them into embeddings\n",
        "Candidates textual description and users' reviews can be useful especially in a `cold-start` or `long-tail` scenario.\n",
        "\n",
        "While the MovieLens dataset does not give us rich textual features, we can still use movie titles. This may help us capture the fact that movies with very similar titles are likely to belong to the same series (for example \"Harry Potter and the Philosopher's Stone\" and \"Harry Potter and the Chamber of Secrets\")."
      ]
    },
    {
      "cell_type": "code",
      "metadata": {
        "id": "mGF8c2ZKOtuG",
        "colab": {
          "base_uri": "https://localhost:8080/"
        },
        "outputId": "a4d65258-0200-4986-8653-fdf07ba98eb7"
      },
      "source": [
        "# Keras TextVectorization layer transforms the raw texts into `word pieces` and\n",
        "# map these pieces into tokens.\n",
        "movie_title_vectorization_layer = \\\n",
        "    tf.keras.layers.TextVectorization()\n",
        "movie_title_vectorization_layer.adapt(\n",
        "    ratings_trainset.map(\n",
        "        lambda rating: rating['movie_title']\n",
        "    )\n",
        ")\n",
        "\n",
        "# Verify that the tokenization is done correctly\n",
        "print(\n",
        "    \"Vocabulary[40:50] -> \",\n",
        "    movie_title_vectorization_layer.get_vocabulary()[40:50]\n",
        ")\n",
        "\n",
        "print(\n",
        "    \"Vectorized title for 'Postman, The (1997)'\\n\",\n",
        "    movie_title_vectorization_layer('Postman, The (1997)')\n",
        ")\n",
        "\n",
        "movie_title_embedding_dim = 32\n",
        "movie_title_embedding_layer = tf.keras.layers.Embedding(\n",
        "    input_dim=len(movie_title_vectorization_layer.get_vocabulary()),\n",
        "    output_dim=movie_title_embedding_dim,\n",
        "    # Whether or not the input value 0 is a MASK token.\n",
        "    # Keras TextVectorization layer builds the vocabulary with MASK token.\n",
        "    mask_zero=True\n",
        ")\n",
        "\n",
        "movie_title_model = tf.keras.Sequential(\n",
        "    [\n",
        "       movie_title_vectorization_layer,\n",
        "       movie_title_embedding_layer,\n",
        "       # each title contains multiple words, so we will get multiple embeddings\n",
        "       # for each title that should be compressed into a single embedding for\n",
        "       # the text. Models like RNNs, Transformers or Attentions are useful here.\n",
        "       # However, averaging all the words' embeddings together is also a good\n",
        "       # starting point.\n",
        "       tf.keras.layers.GlobalAveragePooling1D()\n",
        "    ]\n",
        ")"
      ],
      "execution_count": 8,
      "outputs": [
        {
          "output_type": "stream",
          "name": "stdout",
          "text": [
            "Vocabulary[40:50] ->  ['2014', 'ii', '1985', '2013', 'day', 'wars', '2015', '1982', 'for', 'episode']\n",
            "Vectorized title for 'Postman, The (1997)'\n",
            " tf.Tensor([1119    2   12], shape=(3,), dtype=int64)\n"
          ]
        }
      ]
    },
    {
      "cell_type": "markdown",
      "metadata": {
        "id": "PEmOyPxuOcHx"
      },
      "source": [
        "For more information about feature preprocessing visit [this link](https://www.tensorflow.org/recommenders/examples/featurization?hl=lt)."
      ]
    },
    {
      "cell_type": "markdown",
      "metadata": {
        "id": "UChreol5-Aj2"
      },
      "source": [
        "## Query and Candidate representation\n",
        "We are building a [two-tower retrieval model](https://research.google/pubs/pub48840/), a model including two seperate models (towers) one for transforming query raw features to query representation (query tower) and one another for transforming candidate raw features to the same dimensionality candidate representation.\n",
        "\n",
        "The output tensors of the two models will multiply together (inner product) to give a query-candidate `affinity score` (similarity measure). Higher scores express a better match between the candidate and the query."
      ]
    },
    {
      "cell_type": "code",
      "metadata": {
        "id": "H1jx9RDfoJIq"
      },
      "source": [
        "# Query tower\n",
        "query_model = user_id_model\n",
        "\n",
        "# Candidate tower\n",
        "candidate_model = movie_id_model\n",
        "\n",
        "\n",
        "# Here we only used query and candidate identifiers to buid the towers. This\n",
        "# corresponds exactly to a classic matrix factorization approach.\n",
        "# https://ieeexplore.ieee.org/abstract/document/4781121\n",
        "# However, we can extend `tf.keras.Model` class to an arbitrarily complex model\n",
        "# including other features and return the final embedding vector at the end.\n",
        "# For example, by using movie metadata in the candidate tower, we can alleviate\n",
        "# cold-start problem.\n",
        "# return tf.concat([\n",
        "#         self.user_embedding(inputs[\"user_id\"]),\n",
        "#         self.timestamp_embedding(inputs[\"timestamp\"]),\n",
        "#         self.normalized_timestamp(inputs[\"timestamp\"])\n",
        "#     ], axis=1)"
      ],
      "execution_count": 9,
      "outputs": []
    },
    {
      "cell_type": "markdown",
      "metadata": {
        "id": "-X0nS9g18q4v"
      },
      "source": [
        "## Build the Retrieval (Candidate Generation) task\n",
        "\n",
        "It is about selecting an initial set of hundreds of candidates from all possible candidates. The main objective of this model is to efficiently weed out all candidates that the user is not interested in. Because the retrieval model may be dealing with millions of candidates, **it has to be computationally efficient**.\n",
        "\n",
        "A retrieval system is a model that predicts a set of movies from the catalogue that the user is likely to watch. So the train set should be expressesing which movies the users watched, and which they did not. for example:\n",
        "```\n",
        "[\n",
        "  (('user1', 'Star Wars'), POSITIVE),\n",
        "  (('user1', 'Harry Potter'), NEGATIVE),\n",
        "  ...\n",
        "]\n",
        "```\n",
        "So we treat Movielens as an `implicit feedback dataset`, where users' watches tell us which things they prefer to see and which they'd rather not see. This means that every movie a user rated (so watched!), no matter the given rating, is an **implicit positive example**, and every movie they have not rated (not seen!) is an **implicit negative example**."
      ]
    },
    {
      "cell_type": "code",
      "metadata": {
        "id": "QP5VaGW69c2B"
      },
      "source": [
        "# We don't need rating field for the retrieval task\n",
        "retrieval_ratings_trainset = ratings_trainset.map(\n",
        "    lambda rating: {\n",
        "        'user_id': rating['user_id'],\n",
        "        'movie_id': rating['movie_id'],\n",
        "    }\n",
        ")\n",
        "\n",
        "retrieval_ratings_testset = ratings_testset.map(\n",
        "    lambda rating: {\n",
        "        'user_id': rating['user_id'],\n",
        "        'movie_id': rating['movie_id'],\n",
        "    }\n",
        ")"
      ],
      "execution_count": 10,
      "outputs": []
    },
    {
      "cell_type": "markdown",
      "metadata": {
        "id": "SqeFh9s99bLw"
      },
      "source": [
        "The similarity between the query representation (query embedding vector) and the candiate representation (candidate embedding vector) a.k.a. `affinity score` can be calcualted by dot-product (or other similarity measures). The K-nearest candidates (candidates with higher affinity scores) will be chosen for the final list.\n",
        "\n",
        "In our training data we only have positive (user, movie) pairs. To figure out how good our model is, we need to compare the affinity score that the model calculates for this positive pair to the scores of all the other possible candidates: if the score for the positive pair is higher than for all other possible candidates, our model is highly accurate.\n",
        "\n",
        "To measure the performance of a retrieval task, `factorized top-K categorical accuracy` metrics over a corpus of candidates can be used. These metrics measure how good the model is at picking the true candidate out of **all possible candidates** in the system.\n",
        "\n",
        "For example, a `top-5 categorical accuracy` metric of `0.2` would tell us that, on average, the true positive is in the top 5 retrieved items 20% of the time."
      ]
    },
    {
      "cell_type": "code",
      "metadata": {
        "id": "DgwkIUn71_0y",
        "colab": {
          "base_uri": "https://localhost:8080/"
        },
        "outputId": "f868ba6f-c3ae-4536-a977-1557ef45f115"
      },
      "source": [
        "# To calculate the factorized top-k categorical accuracy we need the dataset of\n",
        "# all possible candidates that are used as implicit negatives for evaluation.\n",
        "movies_dataset, movies_dataset_info = tfds.load(\n",
        "    name='movielens/latest-small-movies',\n",
        "    split='train',\n",
        "    with_info=True\n",
        ")\n",
        "\n",
        "print(\n",
        "    tfds.as_dataframe(movies_dataset.take(5), movies_dataset_info)\n",
        ")\n",
        "\n",
        "# We are using just `movie_id` feature for making the candidates representation\n",
        "candidates_corpus_dataset = movies_dataset.map(\n",
        "    lambda movie: movie['movie_id']\n",
        ")"
      ],
      "execution_count": 11,
      "outputs": [
        {
          "output_type": "stream",
          "name": "stdout",
          "text": [
            "    movie_genres  movie_id                                        movie_title\n",
            "0            [4]   b'2261'                         b'One Crazy Summer (1986)'\n",
            "1           [10]   b'1979'     b'Friday the 13th Part VI: Jason Lives (1986)'\n",
            "2         [4, 5]   b'6143'                b'Trail of the Pink Panther (1982)'\n",
            "3     [4, 7, 14]   b'5856'  b'Do You Remember Dolly Bell? (Sjecas li se, D...\n",
            "4  [0, 4, 7, 16]  b'70728'                                  b'Bronson (2009)'\n"
          ]
        }
      ]
    },
    {
      "cell_type": "markdown",
      "metadata": {
        "id": "P0aPHewDuQZf"
      },
      "source": [
        "[TensorFlow Recommenders](https://www.tensorflow.org/recommenders) (TFRS) is a library to facilitate building and evaluating flexible recommendation models.\n",
        "\n",
        "It can calculate the `factorized top-k categorical accuracy` through `FactorizedTopK` metrics using dataset of all possible candidate embeddings."
      ]
    },
    {
      "cell_type": "code",
      "metadata": {
        "id": "YPO73Ihx_xQS"
      },
      "source": [
        "!pip install -q scann tensorflow-recommenders\n",
        "# We also installed `ScaNN` package as a dependency for TFRS library\n",
        "# We will describe ScaNN in future but it has to be installed before importing\n",
        "# the TFRS\n",
        "import tensorflow_recommenders as tfrs\n",
        "\n",
        "factorized_top_k_metrics = tfrs.metrics.FactorizedTopK(\n",
        "    # dataset of candidate embeddings from which candidates should be retrieved\n",
        "    candidates=candidates_corpus_dataset.batch(128).map(\n",
        "        candidate_model\n",
        "    )\n",
        ")"
      ],
      "execution_count": 12,
      "outputs": []
    },
    {
      "cell_type": "markdown",
      "metadata": {
        "id": "Ie_v22Od-zY8"
      },
      "source": [
        "`in-batch softmax loss` can be used as a `loss function` in order to train the system.\n",
        "\n",
        "TFRS proposes a Keras layer named `tfrs.tasks.Retrieval` that takes the query and candidate embeddings as arguments, and returns the computed loss."
      ]
    },
    {
      "cell_type": "code",
      "metadata": {
        "id": "4E8eOyErNqHY"
      },
      "source": [
        "retrieval_task_layer = tfrs.tasks.Retrieval(\n",
        "    metrics=factorized_top_k_metrics\n",
        ")\n",
        "\n",
        "# The task computes the metrics and return the in-batch softmax loss.\n",
        "# Because the metrics range over the entire candidate set, they are usually much\n",
        "# slower to compute. Consider setting `compute_metrics=False` in Retrieval\n",
        "# costructor during training to save the time in computing the metrics."
      ],
      "execution_count": 13,
      "outputs": []
    },
    {
      "cell_type": "markdown",
      "metadata": {
        "id": "lVFXh69bPYL9"
      },
      "source": [
        "### Create the training loop\n",
        "To create an appropriate training loop and train the models we can extend the class `tf.keras.Model` and override the `train_step` and `test_step` functions. [See how](https://keras.io/guides/customizing_what_happens_in_fit/).\n",
        "\n",
        "However, to keep the focus on modelling and abstract away some of the boilerplate, TFRS exposes `tfrs.models.Model` base class which allows us to compute both training and test losses using the same method. All we need to do is to set up the components in the `__init__` method, and implement the `compute_loss` method, taking in the raw features and returning a loss value. The base model will then take care of creating the appropriate training loop to fit the model."
      ]
    },
    {
      "cell_type": "code",
      "metadata": {
        "id": "EGN_rnLNN07m"
      },
      "source": [
        "class RetrievalModel(tfrs.models.Model):\n",
        "  \"\"\"MovieLens candidate generation model\"\"\"\n",
        "\n",
        "  def __init__(self, query_model, candidate_model, retrieval_task_layer):\n",
        "    super().__init__()\n",
        "    self.query_model: tf.keras.Model = query_model\n",
        "    self.candidate_model: tf.keras.Model = candidate_model\n",
        "    self.retrieval_task_layer: tf.keras.layers.Layer = retrieval_task_layer\n",
        "\n",
        " #def compute_loss(self, features: Dict[Text, tf.Tensor], training=False):\n",
        "  def compute_loss(self, features, training=False) -> tf.Tensor:\n",
        "    query_embeddings = self.query_model(features['user_id'])\n",
        "    positive_candidate_embeddings = self.candidate_model(features[\"movie_id\"])\n",
        "\n",
        "    loss = self.retrieval_task_layer(\n",
        "        query_embeddings,\n",
        "        positive_candidate_embeddings\n",
        "        # ,compute_metrics=not training  # To speed up training\n",
        "    )\n",
        "    return loss"
      ],
      "execution_count": 14,
      "outputs": []
    },
    {
      "cell_type": "markdown",
      "metadata": {
        "id": "ylJqYSN8GH68"
      },
      "source": [
        "### Fit the model using standard Keras routine"
      ]
    },
    {
      "cell_type": "code",
      "metadata": {
        "id": "HoyYTDhB9CAP"
      },
      "source": [
        "movielens_retrieval_model = RetrievalModel(\n",
        "    query_model,\n",
        "    candidate_model,\n",
        "    retrieval_task_layer\n",
        ")\n",
        "\n",
        "optimizer_step_size = 0.1\n",
        "movielens_retrieval_model.compile(\n",
        "    optimizer=tf.keras.optimizers.Adagrad(\n",
        "        learning_rate=optimizer_step_size\n",
        "    )\n",
        ")"
      ],
      "execution_count": 15,
      "outputs": []
    },
    {
      "cell_type": "code",
      "metadata": {
        "id": "ZNw02KWxE3bI",
        "colab": {
          "base_uri": "https://localhost:8080/"
        },
        "outputId": "f17923c4-38d2-4cda-dff0-1242bfff9eae"
      },
      "source": [
        "# Shuffle the training data for each epoch.\n",
        "# Batch and cache both the training and evaluation data.\n",
        "# `cache()` method caches the elements in the dataset in memory. To caches data\n",
        "# in a file pass the `filename` argument to the method: cache(filename='')\n",
        "# The first time the dataset is iterated over, its elements will be cached\n",
        "# either in the specified file or in memory. Subsequent iterations will use the\n",
        "# cached data.\n",
        "retrieval_cached_ratings_trainset = \\\n",
        "  retrieval_ratings_trainset.shuffle(100_000).batch(8192).cache()\n",
        "retrieval_cached_ratings_testset = \\\n",
        "  retrieval_ratings_testset.batch(4096).cache()\n",
        "\n",
        "num_epochs = 5\n",
        "history = movielens_retrieval_model.fit(\n",
        "    retrieval_cached_ratings_trainset,\n",
        "    validation_data=retrieval_cached_ratings_testset,\n",
        "    validation_freq=1,\n",
        "    epochs=num_epochs\n",
        ")"
      ],
      "execution_count": 16,
      "outputs": [
        {
          "output_type": "stream",
          "name": "stdout",
          "text": [
            "Epoch 1/5\n",
            "10/10 [==============================] - 169s 15s/step - factorized_top_k/top_1_categorical_accuracy: 6.1982e-05 - factorized_top_k/top_5_categorical_accuracy: 0.0013 - factorized_top_k/top_10_categorical_accuracy: 0.0031 - factorized_top_k/top_50_categorical_accuracy: 0.0262 - factorized_top_k/top_100_categorical_accuracy: 0.0574 - loss: 71061.1591 - regularization_loss: 0.0000e+00 - total_loss: 71061.1591 - val_factorized_top_k/top_1_categorical_accuracy: 0.0017 - val_factorized_top_k/top_5_categorical_accuracy: 0.0090 - val_factorized_top_k/top_10_categorical_accuracy: 0.0175 - val_factorized_top_k/top_50_categorical_accuracy: 0.0799 - val_factorized_top_k/top_100_categorical_accuracy: 0.1389 - val_loss: 30403.5078 - val_regularization_loss: 0.0000e+00 - val_total_loss: 30403.5078\n",
            "Epoch 2/5\n",
            "10/10 [==============================] - 128s 13s/step - factorized_top_k/top_1_categorical_accuracy: 8.4296e-04 - factorized_top_k/top_5_categorical_accuracy: 0.0079 - factorized_top_k/top_10_categorical_accuracy: 0.0174 - factorized_top_k/top_50_categorical_accuracy: 0.0816 - factorized_top_k/top_100_categorical_accuracy: 0.1432 - loss: 68374.8374 - regularization_loss: 0.0000e+00 - total_loss: 68374.8374 - val_factorized_top_k/top_1_categorical_accuracy: 7.9334e-04 - val_factorized_top_k/top_5_categorical_accuracy: 0.0065 - val_factorized_top_k/top_10_categorical_accuracy: 0.0140 - val_factorized_top_k/top_50_categorical_accuracy: 0.0683 - val_factorized_top_k/top_100_categorical_accuracy: 0.1245 - val_loss: 29863.0508 - val_regularization_loss: 0.0000e+00 - val_total_loss: 29863.0508\n",
            "Epoch 3/5\n",
            "10/10 [==============================] - 128s 13s/step - factorized_top_k/top_1_categorical_accuracy: 0.0012 - factorized_top_k/top_5_categorical_accuracy: 0.0118 - factorized_top_k/top_10_categorical_accuracy: 0.0232 - factorized_top_k/top_50_categorical_accuracy: 0.1039 - factorized_top_k/top_100_categorical_accuracy: 0.1754 - loss: 66258.5078 - regularization_loss: 0.0000e+00 - total_loss: 66258.5078 - val_factorized_top_k/top_1_categorical_accuracy: 4.9583e-04 - val_factorized_top_k/top_5_categorical_accuracy: 0.0050 - val_factorized_top_k/top_10_categorical_accuracy: 0.0111 - val_factorized_top_k/top_50_categorical_accuracy: 0.0597 - val_factorized_top_k/top_100_categorical_accuracy: 0.1075 - val_loss: 29832.7773 - val_regularization_loss: 0.0000e+00 - val_total_loss: 29832.7773\n",
            "Epoch 4/5\n",
            "10/10 [==============================] - 128s 13s/step - factorized_top_k/top_1_categorical_accuracy: 0.0012 - factorized_top_k/top_5_categorical_accuracy: 0.0129 - factorized_top_k/top_10_categorical_accuracy: 0.0270 - factorized_top_k/top_50_categorical_accuracy: 0.1152 - factorized_top_k/top_100_categorical_accuracy: 0.1959 - loss: 64616.1264 - regularization_loss: 0.0000e+00 - total_loss: 64616.1264 - val_factorized_top_k/top_1_categorical_accuracy: 4.4625e-04 - val_factorized_top_k/top_5_categorical_accuracy: 0.0035 - val_factorized_top_k/top_10_categorical_accuracy: 0.0085 - val_factorized_top_k/top_50_categorical_accuracy: 0.0501 - val_factorized_top_k/top_100_categorical_accuracy: 0.0933 - val_loss: 30017.0508 - val_regularization_loss: 0.0000e+00 - val_total_loss: 30017.0508\n",
            "Epoch 5/5\n",
            "10/10 [==============================] - 128s 13s/step - factorized_top_k/top_1_categorical_accuracy: 0.0010 - factorized_top_k/top_5_categorical_accuracy: 0.0135 - factorized_top_k/top_10_categorical_accuracy: 0.0288 - factorized_top_k/top_50_categorical_accuracy: 0.1269 - factorized_top_k/top_100_categorical_accuracy: 0.2194 - loss: 63291.1729 - regularization_loss: 0.0000e+00 - total_loss: 63291.1729 - val_factorized_top_k/top_1_categorical_accuracy: 1.4875e-04 - val_factorized_top_k/top_5_categorical_accuracy: 0.0030 - val_factorized_top_k/top_10_categorical_accuracy: 0.0073 - val_factorized_top_k/top_50_categorical_accuracy: 0.0445 - val_factorized_top_k/top_100_categorical_accuracy: 0.0849 - val_loss: 30291.8203 - val_regularization_loss: 0.0000e+00 - val_total_loss: 30291.8203\n"
          ]
        }
      ]
    },
    {
      "cell_type": "markdown",
      "metadata": {
        "id": "lvDnN_hQJ5fi"
      },
      "source": [
        "`factorized_top_k/top_10_categorical_accuracy: 0.0538` would tell us that, on average, the true positive is in the top 10 retrieved items from the entire candidate set 5% of the time.\n",
        "\n",
        "If the candidate set is a large set, turn metric calculation off in training, and only run it in evaluation. Because this can be quite slow!"
      ]
    },
    {
      "cell_type": "code",
      "metadata": {
        "id": "3djrQCxhBZCV",
        "colab": {
          "base_uri": "https://localhost:8080/",
          "height": 472
        },
        "outputId": "fb0af53f-81de-4fc6-fa68-e8a01649b8b9"
      },
      "source": [
        "# Plot changes in model loss during training\n",
        "import matplotlib.pyplot as plt\n",
        "\n",
        "plt.plot(history.history[\"loss\"])\n",
        "plt.plot(history.history[\"val_loss\"])\n",
        "plt.title(\"Model losses during training\")\n",
        "plt.xlabel(\"epoch\")\n",
        "plt.ylabel(\"loss\")\n",
        "plt.legend([\"train\", \"test\"], loc=\"upper right\")\n",
        "plt.show()"
      ],
      "execution_count": 17,
      "outputs": [
        {
          "output_type": "display_data",
          "data": {
            "text/plain": [
              "<Figure size 640x480 with 1 Axes>"
            ],
            "image/png": "[encoded data removed]"
          },
          "metadata": {}
        }
      ]
    },
    {
      "cell_type": "code",
      "metadata": {
        "colab": {
          "base_uri": "https://localhost:8080/",
          "height": 472
        },
        "id": "Fs0nwFpAL7YI",
        "outputId": "c8b3165d-f6cd-4e87-d19d-e89b30a62445"
      },
      "source": [
        "# Plot changes in model accuracy during training\n",
        "plt.plot(history.history[\"factorized_top_k/top_100_categorical_accuracy\"])\n",
        "plt.plot(history.history[\"val_factorized_top_k/top_100_categorical_accuracy\"])\n",
        "plt.title(\"Model accuracies during training\")\n",
        "plt.xlabel(\"epoch\")\n",
        "plt.ylabel(\"accuracy\")\n",
        "plt.legend([\"train\", \"test\"], loc=\"upper right\")\n",
        "plt.show()"
      ],
      "execution_count": 18,
      "outputs": [
        {
          "output_type": "display_data",
          "data": {
            "text/plain": [
              "<Figure size 640x480 with 1 Axes>"
            ],
            "image/png": "[encoded data removed]"
          },
          "metadata": {}
        }
      ]
    },
    {
      "cell_type": "markdown",
      "metadata": {
        "id": "X25xwNezOn3v"
      },
      "source": [
        "As we can see, the model is `overfitted` on the training dataset. It works well for training data, simply because it memorized them. However, the performance on training data is not important. The model should be able to `generalize` to new unseen data.\n",
        "\n",
        "The overfitting phenomenon is especially strong when models have many parameters. It can be mediated by `model regularization` and use of user and movie features that help the model generalize better to unseen data.\n",
        "\n",
        "Moreover, The model is re-recommending some of users' already watched movies. These known-positive watches can crowd out test movies out of top K recommendations and reduce the model accuracy for test data. This can be tackled by excluding previously seen movies from test recommendations in a third stage. This approach is relatively common in the recommender systems literature, but we don't follow it in these tutorials. If not recommending past watches is important, we should expect appropriately specified models to learn this behaviour automatically from past user history and contextual information. Additionally, it is often appropriate to recommend the same item multiple times (say, an evergreen TV series or a regularly purchased item)."
      ]
    },
    {
      "cell_type": "markdown",
      "metadata": {
        "id": "vu1I9SGxXIGy"
      },
      "source": [
        "### Making predictions\n",
        "To make recommendations, at first, we have to find the representation embedding vectors for all candidates in the corpus and `index` them all for future retrieval.\n",
        "\n",
        "Then, we can get a `query`, pass it through the query tower and find its representation embedding vector.\n",
        "\n",
        "Finally, we can calculate the affinity score between the query and all the candidates, sort them and find `k-nearest` candidates to the query. It is called a `brute-force` search and TFRS exposes a layer named `tfrs.layers.factorized_top_k.BruteForce` to do this."
      ]
    },
    {
      "cell_type": "code",
      "metadata": {
        "id": "_OqB4kwwS1mR",
        "colab": {
          "base_uri": "https://localhost:8080/"
        },
        "outputId": "38e0ed4a-d4db-4c52-c5f4-4a1f7e6ea979"
      },
      "source": [
        "brute_force_layer = tfrs.layers.factorized_top_k.BruteForce(\n",
        "    movielens_retrieval_model.query_model\n",
        ")\n",
        "\n",
        "brute_force_layer.index_from_dataset(\n",
        "  tf.data.Dataset.zip(\n",
        "      (\n",
        "          candidates_corpus_dataset.batch(100),\n",
        "          candidates_corpus_dataset.batch(100).map(\n",
        "              movielens_retrieval_model.candidate_model\n",
        "          )\n",
        "      )\n",
        "  )\n",
        ")"
      ],
      "execution_count": 19,
      "outputs": [
        {
          "output_type": "execute_result",
          "data": {
            "text/plain": [
              "<tensorflow_recommenders.layers.factorized_top_k.BruteForce at 0x7e46362106d0>"
            ]
          },
          "metadata": {},
          "execution_count": 19
        }
      ]
    },
    {
      "cell_type": "code",
      "metadata": {
        "id": "ccdAoIjAS0bC",
        "colab": {
          "base_uri": "https://localhost:8080/"
        },
        "outputId": "f6637372-b3c6-41a2-ecf5-c95a08aa6b1a"
      },
      "source": [
        "user_id = '42'\n",
        "afinity_scores, movie_ids = brute_force_layer(\n",
        "    tf.constant([user_id])\n",
        ")\n",
        "\n",
        "print(f\"Recommendations for user {user_id} using BruteForce: {movie_ids[0, :5]}\")"
      ],
      "execution_count": 20,
      "outputs": [
        {
          "output_type": "stream",
          "name": "stdout",
          "text": [
            "Recommendations for user 42 using BruteForce: [b'2771' b'3142' b'3695' b'3120' b'4207']\n"
          ]
        }
      ]
    },
    {
      "cell_type": "markdown",
      "metadata": {
        "id": "OVlilfUEYPMa"
      },
      "source": [
        "Performing a brute-force search in a large corpus can be too slow and impractical in a production environment. In practice we can speed this up by using an `Approximate Nearest Neighbor` search instead of the brute-force search. Approximate Nearest Neighbor (`ANN`) search can greatly outperform brute-force search speed while sacrificing little in terms of accuracy.\n",
        "\n",
        "We can use Google [ScaNN](https://ai.googleblog.com/2020/07/announcing-scann-efficient-vector.html), Facebook [Faiss](https://engineering.fb.com/2017/03/29/data-infrastructure/faiss-a-library-for-efficient-similarity-search/), Spotify [Annoy](https://github.com/spotify/annoy), or other approximate vector similarity search libraries to build an `approximate retrieval index`. However, TFRS uses `ScaNN` library and exposes the layer `tfrs.layers.factorized_top_k.ScaNN` letting us make the model really end-to-end.\n",
        "\n",
        "Note: to use `tfrs.layers.factorized_top_k.ScaNN` layer, `ScaNN` library should be installed using `pip install scann` before importing the `TFRS` library.\n"
      ]
    },
    {
      "cell_type": "code",
      "metadata": {
        "colab": {
          "base_uri": "https://localhost:8080/"
        },
        "id": "2_c77jsdiPp9",
        "outputId": "4b775ddb-a1ba-47b0-d396-571a82896834"
      },
      "source": [
        "scann_layer = tfrs.layers.factorized_top_k.ScaNN(\n",
        "    movielens_retrieval_model.query_model\n",
        ")\n",
        "\n",
        "scann_layer.index_from_dataset(\n",
        "  tf.data.Dataset.zip(\n",
        "      (\n",
        "          candidates_corpus_dataset.batch(100),\n",
        "          candidates_corpus_dataset.batch(100).map(\n",
        "              movielens_retrieval_model.candidate_model\n",
        "          )\n",
        "      )\n",
        "  )\n",
        ")\n",
        "\n",
        "user_id = '42'\n",
        "afinity_scores, movie_ids = scann_layer(\n",
        "    tf.constant([user_id])\n",
        ")\n",
        "\n",
        "print(f\"Recommendations for user {user_id} using ScaNN: {movie_ids[0, :5]}\")"
      ],
      "execution_count": 21,
      "outputs": [
        {
          "output_type": "stream",
          "name": "stdout",
          "text": [
            "Recommendations for user 42 using ScaNN: [b'3142' b'2574' b'3695' b'4565' b'4442']\n"
          ]
        }
      ]
    },
    {
      "cell_type": "markdown",
      "metadata": {
        "id": "iumhoS_lucaV"
      },
      "source": [
        "### Save the model to use in future\n",
        "To make it possible to serve the Keras model using [TensorFlow Serving](https://www.tensorflow.org/tfx/guide/serving), export it to a `SavedModel` format."
      ]
    },
    {
      "cell_type": "code",
      "metadata": {
        "colab": {
          "base_uri": "https://localhost:8080/"
        },
        "id": "Fowdeb85j6OS",
        "outputId": "e9426126-6287-4bba-f8b6-e07ef5d53c16"
      },
      "source": [
        "import os\n",
        "import tempfile\n",
        "\n",
        "with tempfile.TemporaryDirectory() as tmp_dir:\n",
        "  retrieval_model_path = os.path.join(tmp_dir, \"retrieval_model\")\n",
        "\n",
        "\n",
        "scann_layer.save(\n",
        "    retrieval_model_path,\n",
        "    options=tf.saved_model.SaveOptions(namespace_whitelist=[\"Scann\"])\n",
        ")"
      ],
      "execution_count": 22,
      "outputs": [
        {
          "output_type": "stream",
          "name": "stderr",
          "text": [
            "WARNING:tensorflow:Model's `__init__()` arguments contain non-serializable objects. Please implement a `get_config()` method in the subclassed Model for proper saving and loading. Defaulting to empty config.\n",
            "WARNING:tensorflow:Model's `__init__()` arguments contain non-serializable objects. Please implement a `get_config()` method in the subclassed Model for proper saving and loading. Defaulting to empty config.\n",
            "WARNING:tensorflow:Model's `__init__()` arguments contain non-serializable objects. Please implement a `get_config()` method in the subclassed Model for proper saving and loading. Defaulting to empty config.\n",
            "WARNING:tensorflow:Model's `__init__()` arguments contain non-serializable objects. Please implement a `get_config()` method in the subclassed Model for proper saving and loading. Defaulting to empty config.\n"
          ]
        }
      ]
    },
    {
      "cell_type": "code",
      "metadata": {
        "id": "UNET0awMnJ-X",
        "outputId": "ce2eaf05-8e10-44ed-c913-11d1c6e4dc1d",
        "colab": {
          "base_uri": "https://localhost:8080/"
        }
      },
      "source": [
        "# Reload the saved model to confirm that it works correctly\n",
        "reloaded_model = tf.keras.models.load_model(retrieval_model_path)\n",
        "afinity_scores, movie_ids = reloaded_model(\n",
        "    tf.constant([user_id])\n",
        ")\n",
        "\n",
        "print(f\"Recommendations for user {user_id} using reloaded saved model: {movie_ids[0, :5]}\")"
      ],
      "execution_count": 23,
      "outputs": [
        {
          "output_type": "stream",
          "name": "stderr",
          "text": [
            "WARNING:tensorflow:No training configuration found in save file, so the model was *not* compiled. Compile it manually.\n"
          ]
        },
        {
          "output_type": "stream",
          "name": "stdout",
          "text": [
            "Recommendations for user 42 using reloaded saved model: [b'3142' b'2574' b'3695' b'4565' b'4442']\n"
          ]
        }
      ]
    },
    {
      "cell_type": "markdown",
      "metadata": {
        "id": "tnRXsM-3xsGU"
      },
      "source": [
        "If the saved model works correctly, back it up from the temporary directory to your Google Drive, download it from there, copy to your server (`retrieval_model/1/saved_model.pb`) and serve it."
      ]
    },
    {
      "cell_type": "markdown",
      "metadata": {
        "id": "FZznewEYzYh1"
      },
      "source": [
        "### Serve the saved model using [TensorFlow Serving](https://www.tensorflow.org/tfx/guide/serving)\n",
        "\n",
        "We can use TensorFlow Serving Docker image to run a Docker container serving the saved model. Note that `tensorflow/serving` image doesn't support `ScaNN` layer, so it's important to use `google/tf-serving-scann` custom image instead.\n",
        "\n",
        "TF Serving uses the port 8500 for gRPC and the port 8501 for REST APIs.\n",
        "\n",
        "```\n",
        "docker run -p 8501:8501 \\\n",
        "--mount type=bind,source=PATH_TO_RETRIEVAL_DIR/retrieval,target=/models/retrieval \\\n",
        "-e MODEL_NAME=retrieval -t google/tf-serving-scann &\n",
        "```\n",
        "\n",
        "Now we can send the `query` as an HTTP request to the server and get the recommended candidates.\n",
        "```\n",
        "curl --location --request POST 'http://SERVER_IP_ADDRESS:8501/v1/models/retrieval:predict' \\\n",
        "--header 'Content-Type: application/json' \\\n",
        "--data-raw '{\n",
        "    \"instances\":\n",
        "        [\n",
        "            \"42\"\n",
        "        ]\n",
        "}'\n",
        "```"
      ]
    },
    {
      "cell_type": "markdown",
      "metadata": {
        "id": "3Ez1GmXvB8L-"
      },
      "source": [
        "## Build the Ranking (Scoring) task\n",
        "\n",
        "The `ranking model` takes the outputs of the retrieval model and fine-tunes them to select the best possible handful of recommendations.\n",
        "\n",
        " Its task is to narrow down the set of items the user may be interested in to a shortlist of likely candidates. So the traing set should be expressesing ***how much the users liked the movies they did watch***. This is a form of `explicit feedback` - given that a user watched a movie, we can tell roughly how much they liked by looking at the rating they have given.\n",
        "```\n",
        "[\n",
        "  (('user1', 'Star Wars'), 4.0),\n",
        "  (('user1', 'Harry Potter'), 5.0),\n",
        "  ...\n",
        "]\n",
        "```\n",
        " This time we are going to predict `user_rating` value as the objective. So like the other `regression` problems we can use `MSE (Mean Squared Error)` as loss function and `RMSE (Root Mean Squared Error)` as an accuracy metric. The state of the art (`SOTA`) RMSE value for `MovieLens/100k` is equal to `0.909`.\n",
        "\n",
        "`tfrs.tasks.Ranking` layer gets the predicted ratings and the `ground truth` as input, calculates the metrics and returns the loss value.\n",
        "\n",
        "Ranking models do not face the same efficiency constraints as retrieval models do, and so we have a little bit more freedom in our choice of architectures. A model composed of multiple stacked `Dense` layers is a relatively common architecture for ranking tasks.\n",
        "\n",
        "In most cases, a ranking model can be substantially improved by using more features rather than just user and candidate identifiers."
      ]
    },
    {
      "cell_type": "code",
      "metadata": {
        "id": "TLwaxI00k1xX"
      },
      "source": [
        "class RankingModel(tfrs.models.Model):\n",
        "  \"\"\"MovieLens ranking model\"\"\"\n",
        "\n",
        "  def __init__(self, query_model, candidate_model):\n",
        "    super().__init__()\n",
        "\n",
        "    self.query_model: tf.keras.Model = query_model\n",
        "    self.candidate_model: tf.keras.Model = candidate_model\n",
        "    self.rating_model = tf.keras.Sequential(\n",
        "        [\n",
        "            tf.keras.layers.Dense(256, activation='relu'),\n",
        "            tf.keras.layers.Dense(64, activation='relu'),\n",
        "            tf.keras.layers.Dense(1)\n",
        "        ]\n",
        "    )\n",
        "    self.ranking_task_layer: tf.keras.layers.Layer = tfrs.tasks.Ranking(\n",
        "        loss=tf.keras.losses.MeanSquaredError(),\n",
        "        metrics=[\n",
        "            tf.keras.metrics.RootMeanSquaredError()\n",
        "        ]\n",
        "    )\n",
        "\n",
        "\n",
        "  def compute_loss(self, features, training=False) -> tf.Tensor:\n",
        "    query_embeddings = self.query_model(features['user_id'])\n",
        "    candidate_embeddings = self.candidate_model(features[\"movie_id\"])\n",
        "    rating_predictions = self.rating_model(\n",
        "        tf.concat(\n",
        "            [query_embeddings, candidate_embeddings],\n",
        "            axis=1\n",
        "        )\n",
        "        # We could use `tf.keras.layers.Concatenate(axis=1)([x, y])`\n",
        "    )\n",
        "\n",
        "    loss = self.ranking_task_layer(\n",
        "        predictions=rating_predictions,\n",
        "        labels=features[\"user_rating\"]\n",
        "    )\n",
        "    return loss"
      ],
      "execution_count": 24,
      "outputs": []
    },
    {
      "cell_type": "markdown",
      "metadata": {
        "id": "it4JTHYF1eh-"
      },
      "source": [
        "### Fit the ranking model"
      ]
    },
    {
      "cell_type": "code",
      "metadata": {
        "id": "BijEncJG1iaW"
      },
      "source": [
        "movielens_ranking_model = RankingModel(query_model, candidate_model)\n",
        "\n",
        "optimizer_step_size = 0.1\n",
        "movielens_ranking_model.compile(\n",
        "    optimizer=tf.keras.optimizers.Adagrad(\n",
        "        learning_rate=optimizer_step_size\n",
        "    )\n",
        ")"
      ],
      "execution_count": 25,
      "outputs": []
    },
    {
      "cell_type": "code",
      "metadata": {
        "colab": {
          "base_uri": "https://localhost:8080/"
        },
        "id": "JXZykvH6-DvF",
        "outputId": "cf398902-4e5e-4038-d2a3-2d5d3b2370f3"
      },
      "source": [
        "ranking_ratings_trainset = ratings_trainset.shuffle(100_000).batch(8192).cache()\n",
        "ranking_ratings_testset = ratings_testset.batch(4096).cache()\n",
        "\n",
        "history = movielens_ranking_model.fit(\n",
        "    ranking_ratings_trainset,\n",
        "    validation_data=ranking_ratings_testset,\n",
        "    validation_freq=1,\n",
        "    epochs=5\n",
        ")"
      ],
      "execution_count": 26,
      "outputs": [
        {
          "output_type": "stream",
          "name": "stdout",
          "text": [
            "Epoch 1/5\n",
            "10/10 [==============================] - 19s 1s/step - root_mean_squared_error: 2.4954 - loss: 5.6800 - regularization_loss: 0.0000e+00 - total_loss: 5.6800 - val_root_mean_squared_error: 0.9894 - val_loss: 0.9845 - val_regularization_loss: 0.0000e+00 - val_total_loss: 0.9845\n",
            "Epoch 2/5\n",
            "10/10 [==============================] - 1s 91ms/step - root_mean_squared_error: 0.9699 - loss: 0.9353 - regularization_loss: 0.0000e+00 - total_loss: 0.9353 - val_root_mean_squared_error: 0.9536 - val_loss: 0.9175 - val_regularization_loss: 0.0000e+00 - val_total_loss: 0.9175\n",
            "Epoch 3/5\n",
            "10/10 [==============================] - 1s 88ms/step - root_mean_squared_error: 0.9457 - loss: 0.8907 - regularization_loss: 0.0000e+00 - total_loss: 0.8907 - val_root_mean_squared_error: 0.9412 - val_loss: 0.8968 - val_regularization_loss: 0.0000e+00 - val_total_loss: 0.8968\n",
            "Epoch 4/5\n",
            "10/10 [==============================] - 1s 81ms/step - root_mean_squared_error: 0.9343 - loss: 0.8695 - regularization_loss: 0.0000e+00 - total_loss: 0.8695 - val_root_mean_squared_error: 0.9334 - val_loss: 0.8839 - val_regularization_loss: 0.0000e+00 - val_total_loss: 0.8839\n",
            "Epoch 5/5\n",
            "10/10 [==============================] - 1s 76ms/step - root_mean_squared_error: 0.9266 - loss: 0.8554 - regularization_loss: 0.0000e+00 - total_loss: 0.8554 - val_root_mean_squared_error: 0.9277 - val_loss: 0.8744 - val_regularization_loss: 0.0000e+00 - val_total_loss: 0.8744\n"
          ]
        }
      ]
    },
    {
      "cell_type": "code",
      "metadata": {
        "colab": {
          "base_uri": "https://localhost:8080/",
          "height": 472
        },
        "id": "1-uNjmoY-gsA",
        "outputId": "8fbd9476-ab44-4a1d-c1ac-b4ed06252b08"
      },
      "source": [
        "# Plot changes in model loss during training\n",
        "plt.plot(history.history[\"loss\"])\n",
        "plt.plot(history.history[\"val_loss\"])\n",
        "plt.title(\"Model losses during training\")\n",
        "plt.xlabel(\"epoch\")\n",
        "plt.ylabel(\"loss\")\n",
        "plt.legend([\"train\", \"test\"], loc=\"upper right\")\n",
        "plt.show()"
      ],
      "execution_count": 27,
      "outputs": [
        {
          "output_type": "display_data",
          "data": {
            "text/plain": [
              "<Figure size 640x480 with 1 Axes>"
            ],
            "image/png": "[encoded data removed]"
          },
          "metadata": {}
        }
      ]
    },
    {
      "cell_type": "markdown",
      "metadata": {
        "id": "Haid763z4PL2"
      },
      "source": [
        "## Next Step\n",
        "Of course, making a powerful recommender system requires much more effort. You can read these materials to dive in deeper.\n",
        "\n",
        "<p>&nbsp;</p>\n",
        "\n",
        "[Side Features] https://www.tensorflow.org/recommenders/examples/featurization\n",
        "\n",
        "[Context Features] https://www.tensorflow.org/recommenders/examples/context_features\n",
        "\n",
        "[Deep Recommenders] https://www.tensorflow.org/recommenders/examples/deep_recommenders\n",
        "\n",
        "[Multi-task Recommenders] https://www.tensorflow.org/recommenders/examples/multitask\n",
        "\n",
        "[DCN] https://www.tensorflow.org/recommenders/examples/dcn\n",
        "\n",
        "<p>&nbsp;</p>\n",
        "\n",
        "Papers:\n",
        "\n",
        "[Two-tower neural network] https://storage.googleapis.com/pub-tools-public-publication-data/pdf/6c8a86c981a62b0126a11896b7f6ae0dae4c3566.pdf\n",
        "\n",
        "[SOTA] https://arxiv.org/pdf/1905.01395v1.pdf\n",
        "\n",
        "[SSL] https://arxiv.org/abs/2007.12865\n",
        "\n",
        "[Multi-task] http://www.jiaqima.com/papers/SNR.pdf\n",
        "\n",
        "<p>&nbsp;</p>\n",
        "\n",
        "References:\n",
        "\n",
        "[1] https://developers.google.com/machine-learning/recommendation/overview\n",
        "\n",
        "[2] https://www.tensorflow.org/recommenders"
      ]
    },
    {
      "cell_type": "markdown",
      "metadata": {
        "id": "7TqxYMXOGcrC"
      },
      "source": [
        "## Donation\n",
        "Give a ⭐ if this tutorial helped you!\n",
        "\n",
        "https://github.com/xei/recommender-system-tutorial"
      ]
    }
  ]
}